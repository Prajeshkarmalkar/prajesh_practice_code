{
 "cells": [
  {
   "cell_type": "code",
   "execution_count": 6,
   "metadata": {},
   "outputs": [
    {
     "name": "stdout",
     "output_type": "stream",
     "text": [
      "0\n",
      "num is even\n"
     ]
    }
   ],
   "source": [
    "num = 44\n",
    "div = num % 2\n",
    "print (div)\n",
    "if div == 0:\n",
    "    print(\"num is even\")\n",
    "else:\n",
    "    print(\"num is odd\")\n",
    "    "
   ]
  },
  {
   "cell_type": "code",
   "execution_count": 12,
   "metadata": {},
   "outputs": [
    {
     "name": "stdout",
     "output_type": "stream",
     "text": [
      "not vowel\n"
     ]
    }
   ],
   "source": [
    "char = \"b\"\n",
    "l = [\"a\",\"e\",\"i\",\"o\",\"u\"]\n",
    "if char in l:\n",
    "    print (\"its vowel\")\n",
    "else:\n",
    "    print(\"not vowel\")\n",
    "        \n"
   ]
  },
  {
   "cell_type": "code",
   "execution_count": null,
   "metadata": {},
   "outputs": [],
   "source": []
  }
 ],
 "metadata": {
  "kernelspec": {
   "display_name": "Python 3",
   "language": "python",
   "name": "python3"
  },
  "language_info": {
   "codemirror_mode": {
    "name": "ipython",
    "version": 3
   },
   "file_extension": ".py",
   "mimetype": "text/x-python",
   "name": "python",
   "nbconvert_exporter": "python",
   "pygments_lexer": "ipython3",
   "version": "3.7.6"
  }
 },
 "nbformat": 4,
 "nbformat_minor": 4
}
